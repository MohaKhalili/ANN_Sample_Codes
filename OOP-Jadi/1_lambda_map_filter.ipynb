{
  "nbformat": 4,
  "nbformat_minor": 0,
  "metadata": {
    "colab": {
      "name": "1-lambda-map-filter.ipynb",
      "provenance": [],
      "collapsed_sections": [],
      "toc_visible": true,
      "authorship_tag": "ABX9TyMt85ebLjHNbPvzqo73MJNA",
      "include_colab_link": true
    },
    "kernelspec": {
      "name": "python3",
      "display_name": "Python 3"
    },
    "language_info": {
      "name": "python"
    }
  },
  "cells": [
    {
      "cell_type": "markdown",
      "metadata": {
        "id": "view-in-github",
        "colab_type": "text"
      },
      "source": [
        "<a href=\"https://colab.research.google.com/github/mohakhalili/ANN_Sample_Codes/blob/master/OOP-Jadi/1_lambda_map_filter.ipynb\" target=\"_parent\"><img src=\"https://colab.research.google.com/assets/colab-badge.svg\" alt=\"Open In Colab\"/></a>"
      ]
    },
    {
      "cell_type": "markdown",
      "source": [
        "# lambda"
      ],
      "metadata": {
        "id": "cLovDxZlmywa"
      }
    },
    {
      "cell_type": "markdown",
      "source": [
        "syntax --> lambda arg : Expression\n",
        "\n",
        "get the x as a input and do a expression on it"
      ],
      "metadata": {
        "id": "bfaldiylmhFM"
      }
    },
    {
      "cell_type": "code",
      "source": [
        "myfunc = lambda x :x*2\n",
        "myfunc(3)"
      ],
      "metadata": {
        "colab": {
          "base_uri": "https://localhost:8080/"
        },
        "id": "2uX5BVvRmh2V",
        "outputId": "30da7214-de66-4e59-a331-d67b7308b940"
      },
      "execution_count": null,
      "outputs": [
        {
          "output_type": "execute_result",
          "data": {
            "text/plain": [
              "6"
            ]
          },
          "metadata": {},
          "execution_count": 2
        }
      ]
    },
    {
      "cell_type": "markdown",
      "source": [
        "where is it be use ?"
      ],
      "metadata": {
        "id": "PHL9GAxKm59H"
      }
    },
    {
      "cell_type": "code",
      "source": [
        "a = [(3,4),(7,1),(5,9),(2,2)] \n",
        "a.sort()\n",
        "a"
      ],
      "metadata": {
        "colab": {
          "base_uri": "https://localhost:8080/"
        },
        "id": "hzMDjR_unDDo",
        "outputId": "69d7749a-005c-40b1-eb68-36b53258493b"
      },
      "execution_count": null,
      "outputs": [
        {
          "output_type": "execute_result",
          "data": {
            "text/plain": [
              "[(2, 2), (3, 4), (5, 9), (7, 1)]"
            ]
          },
          "metadata": {},
          "execution_count": 4
        }
      ]
    },
    {
      "cell_type": "markdown",
      "source": [
        "sort by second argumant with lambda"
      ],
      "metadata": {
        "id": "HyMEUU8PnAOB"
      }
    },
    {
      "cell_type": "code",
      "source": [
        "a.sort(key = lambda  x:x[1])\n",
        "print(a)"
      ],
      "metadata": {
        "colab": {
          "base_uri": "https://localhost:8080/"
        },
        "id": "khFVMorgmwXQ",
        "outputId": "a6db546d-064d-493d-8bf5-cfa44bcfe559"
      },
      "execution_count": null,
      "outputs": [
        {
          "output_type": "stream",
          "name": "stdout",
          "text": [
            "[(7, 1), (2, 2), (3, 4), (5, 9)]\n"
          ]
        }
      ]
    },
    {
      "cell_type": "markdown",
      "source": [
        "# map"
      ],
      "metadata": {
        "id": "It-UTxmgnmHT"
      }
    },
    {
      "cell_type": "markdown",
      "source": [
        "suppose you have a list, map assign a function to every member of the list\n",
        "\n",
        "syntax --> map(function, list)"
      ],
      "metadata": {
        "id": "tNY7PxxdntJo"
      }
    },
    {
      "cell_type": "markdown",
      "source": [
        "ex1: You have a list, write a code that returns another list that each member of the previous list be a power of 2"
      ],
      "metadata": {
        "id": "dl3iYNgCpxPR"
      }
    },
    {
      "cell_type": "code",
      "source": [
        "mylist = [2,3,5,1,3,7,9,3]\n",
        "print(list(map(lambda x:x*2,mylist)))"
      ],
      "metadata": {
        "colab": {
          "base_uri": "https://localhost:8080/"
        },
        "id": "lpjjjnGinpIF",
        "outputId": "865c10dd-5bab-41b5-c557-de99c78a908a"
      },
      "execution_count": null,
      "outputs": [
        {
          "output_type": "stream",
          "name": "stdout",
          "text": [
            "[4, 6, 10, 2, 6, 14, 18, 6]\n"
          ]
        }
      ]
    },
    {
      "cell_type": "markdown",
      "source": [
        "map return a map variable, If you want a list, you must call the list function before map"
      ],
      "metadata": {
        "id": "xWunC1D4n6Wi"
      }
    },
    {
      "cell_type": "markdown",
      "source": [
        "ex2: suppose you have a list of numbers, I want to say 'big' instead of those are greater than 10, and  say 'small' instead of those are smaller than 10"
      ],
      "metadata": {
        "id": "EjwiA6nxq4hd"
      }
    },
    {
      "cell_type": "code",
      "source": [
        "numbers = [2, 54, 8, 43, 1]\n",
        "print(list(map(lambda x:'big' if x>10 else 'small' , numbers)))"
      ],
      "metadata": {
        "colab": {
          "base_uri": "https://localhost:8080/"
        },
        "id": "iazSxtUwq93b",
        "outputId": "07068d94-38b8-442f-a4b6-6474e29db556"
      },
      "execution_count": null,
      "outputs": [
        {
          "output_type": "stream",
          "name": "stdout",
          "text": [
            "['small', 'big', 'small', 'big', 'small']\n"
          ]
        }
      ]
    },
    {
      "cell_type": "markdown",
      "source": [
        "another form of loop and conditional expressions --> linear "
      ],
      "metadata": {
        "id": "Prw4pKFvsldq"
      }
    },
    {
      "cell_type": "markdown",
      "source": [
        "# filter\n",
        "\n",
        "filter says I have a list, filter that list by a function to the one I say"
      ],
      "metadata": {
        "id": "8Sc7jzBBtXkq"
      }
    },
    {
      "cell_type": "markdown",
      "source": [
        "ex: suppose you have a list, return another list which only the members are divisible to 2"
      ],
      "metadata": {
        "id": "0eYs8_Fftzoz"
      }
    },
    {
      "cell_type": "code",
      "source": [
        "my_list = [1,3,6,8,3]\n",
        "list(filter(lambda x:x%2==0, my_list))"
      ],
      "metadata": {
        "colab": {
          "base_uri": "https://localhost:8080/"
        },
        "id": "uiqMx4wbtDYG",
        "outputId": "64849404-0939-4080-a827-cc54f9355b9b"
      },
      "execution_count": null,
      "outputs": [
        {
          "output_type": "execute_result",
          "data": {
            "text/plain": [
              "[6, 8]"
            ]
          },
          "metadata": {},
          "execution_count": 13
        }
      ]
    }
  ]
}