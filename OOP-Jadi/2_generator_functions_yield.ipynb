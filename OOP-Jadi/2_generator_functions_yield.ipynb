{
  "nbformat": 4,
  "nbformat_minor": 0,
  "metadata": {
    "colab": {
      "name": "2-generator functions-yield.ipynb",
      "provenance": [],
      "collapsed_sections": [],
      "authorship_tag": "ABX9TyPZ/Qt5mqGFOFQE3ytuovMU",
      "include_colab_link": true
    },
    "kernelspec": {
      "name": "python3",
      "display_name": "Python 3"
    },
    "language_info": {
      "name": "python"
    }
  },
  "cells": [
    {
      "cell_type": "markdown",
      "metadata": {
        "id": "view-in-github",
        "colab_type": "text"
      },
      "source": [
        "<a href=\"https://colab.research.google.com/github/mohakhalili/ANN_Sample_Codes/blob/master/OOP-Jadi/2_generator_functions_yield.ipynb\" target=\"_parent\"><img src=\"https://colab.research.google.com/assets/colab-badge.svg\" alt=\"Open In Colab\"/></a>"
      ]
    },
    {
      "cell_type": "markdown",
      "source": [
        "# Generator"
      ],
      "metadata": {
        "id": "vqMGnojrzgHO"
      }
    },
    {
      "cell_type": "markdown",
      "source": [
        "until now We could use functions normallym, for example\n",
        "\n",
        "def firstn(n):\n",
        "\n",
        "  -\n",
        "\n",
        "  -\n",
        "\n",
        "  -\n",
        "\n",
        "  return [0,1,2,3,....,n]"
      ],
      "metadata": {
        "id": "SIycK_NtBqxd"
      }
    },
    {
      "cell_type": "markdown",
      "source": [
        "But what is its problem !?\n",
        "\n",
        "It is beneficial when we want to work with a large array or list\n",
        "\n",
        "problem 1:\n",
        "\n",
        "In this situation, firstly a lot of memory is occupied, i.e. it builds an array of 10 million at first and then returns them\n",
        "\n",
        "problem 2:\n",
        "\n",
        "for example, we want to return all of the students who have GPAs under 12 in the country. In this case, we want a function that calculates them for 2000 years and then returns them.\n",
        "\n",
        "problem 3:\n",
        "\n",
        "Sometimes we want to return a thing unlimited, for example, we want to do encryption. In this case, we want a function when we need it returns a random number. I don't know how many we want it, but whenever I want it must be run."
      ],
      "metadata": {
        "id": "mB8YCuxsBtCe"
      }
    },
    {
      "cell_type": "markdown",
      "source": [
        "Generator syntax --> \n",
        "\n",
        "def -() :\n",
        "\n",
        " -\n",
        "\n",
        " -\n",
        "\n",
        " -\n",
        "\n",
        " return -"
      ],
      "metadata": {
        "id": "RIcFv-TK1LJW"
      }
    },
    {
      "cell_type": "markdown",
      "source": [
        "In generators we have a new vocab, call 'yield'\n",
        "means catch up\n",
        "\n",
        "It is similar to return , but with some differences"
      ],
      "metadata": {
        "id": "AhFykjci1d9r"
      }
    },
    {
      "cell_type": "markdown",
      "source": [
        "In a classic function, we have:"
      ],
      "metadata": {
        "id": "VempDOPC32DD"
      }
    },
    {
      "cell_type": "code",
      "execution_count": null,
      "metadata": {
        "id": "Iffo_uHovJHP"
      },
      "outputs": [],
      "source": [
        "def firstn():\n",
        "  return (1,2,3)"
      ]
    },
    {
      "cell_type": "markdown",
      "source": [
        "when we call it, it returns whole of return and finish : "
      ],
      "metadata": {
        "id": "8rmv2n5_4GmO"
      }
    },
    {
      "cell_type": "code",
      "source": [
        "firstn()"
      ],
      "metadata": {
        "colab": {
          "base_uri": "https://localhost:8080/"
        },
        "id": "nEQ8tfRx3HeH",
        "outputId": "64a3474e-8450-49eb-ef04-0c74e0974c8e"
      },
      "execution_count": null,
      "outputs": [
        {
          "output_type": "execute_result",
          "data": {
            "text/plain": [
              "(1, 2, 3)"
            ]
          },
          "metadata": {},
          "execution_count": 3
        }
      ]
    },
    {
      "cell_type": "markdown",
      "source": [
        "And in a generator functions we have:"
      ],
      "metadata": {
        "id": "ZUWSYl1I38LL"
      }
    },
    {
      "cell_type": "code",
      "source": [
        "def firstn():\n",
        "  yield 1\n",
        "  yield 2\n",
        "  yield 3"
      ],
      "metadata": {
        "id": "toMzgmLc3MH6"
      },
      "execution_count": null,
      "outputs": []
    },
    {
      "cell_type": "markdown",
      "source": [
        "when it arrives to first yield, it returns 1 and does not finish, until we call again, actually it remembers previous state (where it was) !!!\n",
        "\n",
        "In second calling, it returns 2\n",
        "\n",
        "In third calling, it returns 3"
      ],
      "metadata": {
        "id": "uD1hMyYH4BiE"
      }
    },
    {
      "cell_type": "markdown",
      "source": [
        "In generator function, we cannot call them normally,"
      ],
      "metadata": {
        "id": "X7K9zr3K3q0a"
      }
    },
    {
      "cell_type": "code",
      "source": [
        "firstn"
      ],
      "metadata": {
        "colab": {
          "base_uri": "https://localhost:8080/"
        },
        "id": "ry3KQfxO5hce",
        "outputId": "27a3008d-6b62-4b5b-ce2c-003ec705a911"
      },
      "execution_count": null,
      "outputs": [
        {
          "output_type": "execute_result",
          "data": {
            "text/plain": [
              "<function __main__.firstn>"
            ]
          },
          "metadata": {},
          "execution_count": 5
        }
      ]
    },
    {
      "cell_type": "code",
      "source": [
        "firstn()"
      ],
      "metadata": {
        "colab": {
          "base_uri": "https://localhost:8080/"
        },
        "id": "uxAIalUc5juz",
        "outputId": "c829a6b3-2584-4bc9-984b-53c8482a3989"
      },
      "execution_count": null,
      "outputs": [
        {
          "output_type": "execute_result",
          "data": {
            "text/plain": [
              "<generator object firstn at 0x7f832dd2e650>"
            ]
          },
          "metadata": {},
          "execution_count": 6
        }
      ]
    },
    {
      "cell_type": "markdown",
      "source": [
        "We use generator functions in iterative loops"
      ],
      "metadata": {
        "id": "yv4x-34L5raC"
      }
    },
    {
      "cell_type": "code",
      "source": [
        "for i in firstn():\n",
        "  print(i)"
      ],
      "metadata": {
        "colab": {
          "base_uri": "https://localhost:8080/"
        },
        "id": "468bu8Fq5smY",
        "outputId": "0820b73b-8d40-4d95-88c1-f36b5fc881be"
      },
      "execution_count": null,
      "outputs": [
        {
          "output_type": "stream",
          "name": "stdout",
          "text": [
            "1\n",
            "2\n",
            "3\n"
          ]
        }
      ]
    },
    {
      "cell_type": "markdown",
      "source": [
        "it is similar to (for i in (1, 2, 3))\n",
        "\n",
        "but (1, 2, 3) has a problem, and it is that whole of (1, 2, 3) builds in memory at first and fills my memory (when it's a very large array, for example 300 million numbers)"
      ],
      "metadata": {
        "id": "lvmIbch46Fcy"
      }
    },
    {
      "cell_type": "markdown",
      "source": [
        "ex1: suppose we want to write a function that returns numbers between 0 to n\n",
        "and use it in a loop (normally we does not use it because we have range or xrange function)"
      ],
      "metadata": {
        "id": "ptkrdBWW8OE3"
      }
    },
    {
      "cell_type": "code",
      "source": [
        "def firstn(n):\n",
        "  num = 0\n",
        "  while (num<n):\n",
        "    yield num\n",
        "    num += 1"
      ],
      "metadata": {
        "id": "tL4TwWYb6FIM"
      },
      "execution_count": null,
      "outputs": []
    },
    {
      "cell_type": "code",
      "source": [
        "for i in firstn(10):\n",
        "  print(i)"
      ],
      "metadata": {
        "colab": {
          "base_uri": "https://localhost:8080/"
        },
        "id": "ZVjEbwu7_P4q",
        "outputId": "18f00db4-c855-4189-b01f-fd6322aa011e"
      },
      "execution_count": null,
      "outputs": [
        {
          "output_type": "stream",
          "name": "stdout",
          "text": [
            "0\n",
            "1\n",
            "2\n",
            "3\n",
            "4\n",
            "5\n",
            "6\n",
            "7\n",
            "8\n",
            "9\n"
          ]
        }
      ]
    }
  ]
}